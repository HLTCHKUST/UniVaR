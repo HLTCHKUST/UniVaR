{
 "cells": [
  {
   "cell_type": "code",
   "execution_count": null,
   "id": "7cf3bb28-076c-44d6-a4fd-273ba05776fc",
   "metadata": {},
   "outputs": [],
   "source": [
    "import os, sys\n",
    "os.environ['CUDA_VISIBLE_DEVICES'] = '1'\n",
    "sys.path.append('../valuebert_trainer')\n",
    "\n",
    "import glob\n",
    "import numpy as np\n",
    "import pandas as pd\n",
    "import random\n",
    "\n",
    "import torch\n",
    "from sentence_transformers import SentenceTransformer\n",
    "import umap\n",
    "import matplotlib.pyplot as plt\n",
    "import seaborn as sns\n",
    "\n",
    "from train_utils.utils import init_random_seed, get_params_count, encode_value_dataset"
   ]
  },
  {
   "cell_type": "code",
   "execution_count": null,
   "id": "6c3ed423-0b60-4e47-a2e8-6540d07d5889",
   "metadata": {},
   "outputs": [],
   "source": [
    "random_seed = 0\n",
    "model_path = \"CAiRE/UniVaR-lambda-5\""
   ]
  },
  {
   "cell_type": "code",
   "execution_count": null,
   "id": "101be0f8-5f52-4558-818a-186833856875",
   "metadata": {
    "tags": []
   },
   "outputs": [],
   "source": [
    "# Init random seed\n",
    "init_random_seed(random_seed)"
   ]
  },
  {
   "cell_type": "code",
   "execution_count": null,
   "id": "1907a606-1fb1-476d-8fd6-46787983acb3",
   "metadata": {
    "tags": []
   },
   "outputs": [],
   "source": [
    "# Load Model\n",
    "model = SentenceTransformer(model_path).to('cuda')"
   ]
  },
  {
   "cell_type": "code",
   "execution_count": null,
   "id": "e74027bb-1ffe-45f5-be52-5fd009d260d4",
   "metadata": {
    "tags": []
   },
   "outputs": [],
   "source": [
    "# Load ValuePrism Dataset\n",
    "valueprism_dfs = []\n",
    "data_paths = glob.glob(f'{base_data_path}/value_prism/qa_translated/*.csv')\n",
    "for data_path in data_paths:\n",
    "    mdl_name = data_path.split('/')[-1][:-4]\n",
    "    df = pd.read_csv(data_path).fillna('')\n",
    "    df['model'] = mdl_name\n",
    "    df['value'] = df.apply(lambda x: f\"{x['model']}${x['lang']}\", axis='columns')\n",
    "    df['split'] = df['value'].apply(lambda x: 'seen' if x in seen_value_list else 'unseen')\n",
    "    df['qa'] = df.apply(lambda x: f\"Q: {x['question'].strip()} A: {x['answer'].strip()}\", axis='columns')\n",
    "    valueprism_dfs.append(df)\n",
    "\n",
    "# Load PVQRR Seen Dataset\n",
    "pvqrr_dfs = []\n",
    "data_paths = glob.glob(f'{base_data_path}/pvqrr/qa_translated/*.csv')\n",
    "for data_path in data_paths:\n",
    "    mdl_name = data_path.split('/')[-1][:-4]\n",
    "    df = pd.read_csv(data_path).fillna('')\n",
    "    df['model'] = mdl_name\n",
    "    df['value'] = df.apply(lambda x: f\"{x['model']}${x['lang']}\", axis='columns')\n",
    "    df['split'] = df['value'].apply(lambda x: 'seen' if x in seen_value_list else 'unseen')\n",
    "    df['qa'] = df.apply(lambda x: f\"Q: {x['question'].strip()} A: {x['answer'].strip()}\", axis='columns')\n",
    "    pvqrr_dfs.append(df)\n",
    "\n",
    "# Load GLOBE Unseen Dataset\n",
    "globe_dfs = []\n",
    "data_paths = glob.glob(f'{base_data_path}/globe/qa_translated/*.csv')\n",
    "for data_path in data_paths:\n",
    "    mdl_name = data_path.split('/')[-1][:-4]\n",
    "    df = pd.read_csv(data_path).fillna('')\n",
    "    df['model'] = mdl_name\n",
    "    df['value'] = df.apply(lambda x: f\"{x['model']}${x['lang']}\", axis='columns')\n",
    "    df['split'] = df['value'].apply(lambda x: 'seen' if x in seen_value_list else 'unseen')\n",
    "    df['qa'] = df.apply(lambda x: f\"Q: {x['question'].strip()} A: {x['answer'].strip()}\", axis='columns')\n",
    "    globe_dfs.append(df)\n",
    "\n",
    "# Load WVS Dataset\n",
    "wvs_dfs = []\n",
    "data_paths = glob.glob(f'{base_data_path}/wvs/qa_translated/*.csv')\n",
    "data = {}\n",
    "for data_path in data_paths:\n",
    "    mdl_name = data_path.split('/')[-1][:-4]\n",
    "    df = pd.read_csv(data_path).fillna('')\n",
    "    df['model'] = mdl_name\n",
    "    df['value'] = df.apply(lambda x: f\"{x['model']}${x['lang']}\", axis='columns')\n",
    "    df['split'] = df['value'].apply(lambda x: 'seen' if x in seen_value_list else 'unseen')\n",
    "    df['qa'] = df.apply(lambda x: f\"Q: {x['question'].strip()} A: {x['answer'].strip()}\", axis='columns')\n",
    "    wvs_dfs.append(df)\n",
    "\n",
    "# Load Lima Dataset\n",
    "lima_dfs = []\n",
    "data_paths = glob.glob(f'{base_data_path}/lima/qa_translated/*.csv')\n",
    "for data_path in data_paths:\n",
    "    mdl_name = data_path.split('/')[-1].split('_directly_answer')[0]\n",
    "    df = pd.read_csv(data_path).fillna('')\n",
    "    df['model'] = mdl_name\n",
    "    df['value'] = df.apply(lambda x: f\"{x['model']}${x['lang']}\", axis='columns')\n",
    "    df['split'] = df['value'].apply(lambda x: 'seen' if x in seen_value_list else 'unseen')\n",
    "    df['qa'] = df.apply(lambda x: f\"Q: {x['question'].strip()} A: {x['answer'].strip()}\", axis='columns')\n",
    "    lima_dfs.append(df)\n",
    "\n",
    "# Combine the data\n",
    "valueprism_df = pd.concat(valueprism_dfs).reset_index(drop=True)\n",
    "pvqrr_df = pd.concat(pvqrr_dfs).reset_index(drop=True)\n",
    "globe_df = pd.concat(globe_dfs).reset_index(drop=True)\n",
    "wvs_df = pd.concat(wvs_dfs).reset_index(drop=True)\n",
    "lima_df = pd.concat(lima_dfs).reset_index(drop=True)"
   ]
  },
  {
   "cell_type": "code",
   "execution_count": null,
   "id": "d17a4a4e-df12-4d18-82e8-6e568459f9a7",
   "metadata": {
    "tags": []
   },
   "outputs": [],
   "source": [
    "# Generate Value Representation\n",
    "valueprism_reps = model.encode(valueprism_df['qa'].tolist(), convert_to_numpy=True, batch_size=batch_size, show_progress_bar=True)\n",
    "pvqrr_reps = model.encode(pvqrr_df['qa'].tolist(), convert_to_numpy=True, batch_size=batch_size, show_progress_bar=True)\n",
    "globe_reps = model.encode(globe_df['qa'].tolist(), convert_to_numpy=True, batch_size=batch_size, show_progress_bar=True)\n",
    "wvs_reps = model.encode(wvs_df['qa'].tolist(), convert_to_numpy=True, batch_size=batch_size, show_progress_bar=True)\n",
    "lima_reps = model.encode(lima_df['qa'].tolist(), convert_to_numpy=True, batch_size=batch_size, show_progress_bar=True)"
   ]
  }
 ],
 "metadata": {
  "kernelspec": {
   "display_name": "Python (env_indot0)",
   "language": "python",
   "name": "env_indot0"
  },
  "language_info": {
   "codemirror_mode": {
    "name": "ipython",
    "version": 3
   },
   "file_extension": ".py",
   "mimetype": "text/x-python",
   "name": "python",
   "nbconvert_exporter": "python",
   "pygments_lexer": "ipython3",
   "version": "3.10.12"
  }
 },
 "nbformat": 4,
 "nbformat_minor": 5
}
